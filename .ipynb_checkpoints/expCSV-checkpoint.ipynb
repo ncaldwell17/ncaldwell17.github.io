{
 "cells": [
  {
   "cell_type": "code",
   "execution_count": 145,
   "metadata": {},
   "outputs": [],
   "source": [
    "import os\n",
    "import pandas as pd\n",
    "import csv"
   ]
  },
  {
   "cell_type": "code",
   "execution_count": 146,
   "metadata": {},
   "outputs": [],
   "source": [
    "entries = pd.read_csv('templateBlog.csv', index_col=0)"
   ]
  },
  {
   "cell_type": "code",
   "execution_count": 147,
   "metadata": {},
   "outputs": [
    {
     "data": {
      "text/html": [
       "<div>\n",
       "<style scoped>\n",
       "    .dataframe tbody tr th:only-of-type {\n",
       "        vertical-align: middle;\n",
       "    }\n",
       "\n",
       "    .dataframe tbody tr th {\n",
       "        vertical-align: top;\n",
       "    }\n",
       "\n",
       "    .dataframe thead th {\n",
       "        text-align: right;\n",
       "    }\n",
       "</style>\n",
       "<table border=\"1\" class=\"dataframe\">\n",
       "  <thead>\n",
       "    <tr style=\"text-align: right;\">\n",
       "      <th></th>\n",
       "      <th>title</th>\n",
       "      <th>subtitle</th>\n",
       "      <th>aut_href</th>\n",
       "      <th>author</th>\n",
       "      <th>ema_href</th>\n",
       "      <th>email</th>\n",
       "      <th>date</th>\n",
       "      <th>time</th>\n",
       "      <th>image_path</th>\n",
       "      <th>caption</th>\n",
       "      <th>...</th>\n",
       "      <th>extra2</th>\n",
       "      <th>extra3</th>\n",
       "      <th>extra4</th>\n",
       "      <th>extra5</th>\n",
       "      <th>extra6</th>\n",
       "      <th>extra7</th>\n",
       "      <th>extra8</th>\n",
       "      <th>extra9</th>\n",
       "      <th>extra10</th>\n",
       "      <th>meta_title</th>\n",
       "    </tr>\n",
       "  </thead>\n",
       "  <tbody>\n",
       "    <tr>\n",
       "      <th>Test</th>\n",
       "      <td>\"Test\"</td>\n",
       "      <td>NaN</td>\n",
       "      <td>NaN</td>\n",
       "      <td>NaN</td>\n",
       "      <td>NaN</td>\n",
       "      <td>NaN</td>\n",
       "      <td>NaN</td>\n",
       "      <td>NaN</td>\n",
       "      <td>NaN</td>\n",
       "      <td>NaN</td>\n",
       "      <td>...</td>\n",
       "      <td>NaN</td>\n",
       "      <td>NaN</td>\n",
       "      <td>NaN</td>\n",
       "      <td>NaN</td>\n",
       "      <td>NaN</td>\n",
       "      <td>NaN</td>\n",
       "      <td>NaN</td>\n",
       "      <td>NaN</td>\n",
       "      <td>NaN</td>\n",
       "      <td>NaN</td>\n",
       "    </tr>\n",
       "    <tr>\n",
       "      <th>Test</th>\n",
       "      <td>Test2</td>\n",
       "      <td>NaN</td>\n",
       "      <td>NaN</td>\n",
       "      <td>NaN</td>\n",
       "      <td>NaN</td>\n",
       "      <td>NaN</td>\n",
       "      <td>NaN</td>\n",
       "      <td>NaN</td>\n",
       "      <td>NaN</td>\n",
       "      <td>NaN</td>\n",
       "      <td>...</td>\n",
       "      <td>NaN</td>\n",
       "      <td>NaN</td>\n",
       "      <td>NaN</td>\n",
       "      <td>NaN</td>\n",
       "      <td>NaN</td>\n",
       "      <td>NaN</td>\n",
       "      <td>NaN</td>\n",
       "      <td>NaN</td>\n",
       "      <td>NaN</td>\n",
       "      <td>NaN</td>\n",
       "    </tr>\n",
       "    <tr>\n",
       "      <th>Montana Wilmont Collins</th>\n",
       "      <td>How to Win Montana</td>\n",
       "      <td>Helena Mayor Wilmot Collins faces an uphill ba...</td>\n",
       "      <td>www.ncaldwellgatsos.com</td>\n",
       "      <td>Noah Caldwell-Gatsos</td>\n",
       "      <td>mailto:ncaldwellgatsos@gmail.com</td>\n",
       "      <td>ncaldwellgatsos@gmail.com</td>\n",
       "      <td>7/12/19</td>\n",
       "      <td>12:13AM EST</td>\n",
       "      <td>/images/wilmot.jpg</td>\n",
       "      <td>Mayor Collins addresses a crowd in Helena foll...</td>\n",
       "      <td>...</td>\n",
       "      <td>NaN</td>\n",
       "      <td>NaN</td>\n",
       "      <td>NaN</td>\n",
       "      <td>NaN</td>\n",
       "      <td>NaN</td>\n",
       "      <td>NaN</td>\n",
       "      <td>NaN</td>\n",
       "      <td>NaN</td>\n",
       "      <td>NaN</td>\n",
       "      <td>NaN</td>\n",
       "    </tr>\n",
       "  </tbody>\n",
       "</table>\n",
       "<p>3 rows × 37 columns</p>\n",
       "</div>"
      ],
      "text/plain": [
       "                                      title  \\\n",
       "Test                                 \"Test\"   \n",
       "Test                                  Test2   \n",
       "Montana Wilmont Collins  How to Win Montana   \n",
       "\n",
       "                                                                  subtitle  \\\n",
       "Test                                                                   NaN   \n",
       "Test                                                                   NaN   \n",
       "Montana Wilmont Collins  Helena Mayor Wilmot Collins faces an uphill ba...   \n",
       "\n",
       "                                        aut_href                author  \\\n",
       "Test                                         NaN                   NaN   \n",
       "Test                                         NaN                   NaN   \n",
       "Montana Wilmont Collins  www.ncaldwellgatsos.com  Noah Caldwell-Gatsos   \n",
       "\n",
       "                                                 ema_href  \\\n",
       "Test                                                  NaN   \n",
       "Test                                                  NaN   \n",
       "Montana Wilmont Collins  mailto:ncaldwellgatsos@gmail.com   \n",
       "\n",
       "                                             email     date         time  \\\n",
       "Test                                           NaN      NaN          NaN   \n",
       "Test                                           NaN      NaN          NaN   \n",
       "Montana Wilmont Collins  ncaldwellgatsos@gmail.com  7/12/19  12:13AM EST   \n",
       "\n",
       "                                 image_path  \\\n",
       "Test                                    NaN   \n",
       "Test                                    NaN   \n",
       "Montana Wilmont Collins  /images/wilmot.jpg   \n",
       "\n",
       "                                                                   caption  \\\n",
       "Test                                                                   NaN   \n",
       "Test                                                                   NaN   \n",
       "Montana Wilmont Collins  Mayor Collins addresses a crowd in Helena foll...   \n",
       "\n",
       "                         ... extra2 extra3 extra4 extra5 extra6 extra7 extra8  \\\n",
       "Test                     ...    NaN    NaN    NaN    NaN    NaN    NaN    NaN   \n",
       "Test                     ...    NaN    NaN    NaN    NaN    NaN    NaN    NaN   \n",
       "Montana Wilmont Collins  ...    NaN    NaN    NaN    NaN    NaN    NaN    NaN   \n",
       "\n",
       "                        extra9 extra10  meta_title  \n",
       "Test                       NaN     NaN         NaN  \n",
       "Test                       NaN     NaN         NaN  \n",
       "Montana Wilmont Collins    NaN     NaN         NaN  \n",
       "\n",
       "[3 rows x 37 columns]"
      ]
     },
     "execution_count": 147,
     "metadata": {},
     "output_type": "execute_result"
    }
   ],
   "source": [
    "entries.head()"
   ]
  },
  {
   "cell_type": "code",
   "execution_count": 148,
   "metadata": {},
   "outputs": [
    {
     "name": "stdout",
     "output_type": "stream",
     "text": [
      "<class 'str'>\n"
     ]
    }
   ],
   "source": [
    "print(type(entries['title'][2]))"
   ]
  },
  {
   "cell_type": "code",
   "execution_count": 149,
   "metadata": {},
   "outputs": [
    {
     "name": "stdout",
     "output_type": "stream",
     "text": [
      "Test2\n"
     ]
    }
   ],
   "source": [
    "print(entries['title'][1])"
   ]
  },
  {
   "cell_type": "code",
   "execution_count": 150,
   "metadata": {},
   "outputs": [
    {
     "name": "stdout",
     "output_type": "stream",
     "text": [
      "<class 'str'>\n"
     ]
    }
   ],
   "source": [
    "print(type(entries['one_p'][2]))"
   ]
  },
  {
   "cell_type": "code",
   "execution_count": null,
   "metadata": {},
   "outputs": [],
   "source": []
  }
 ],
 "metadata": {
  "kernelspec": {
   "display_name": "default",
   "language": "python",
   "name": "default"
  },
  "language_info": {
   "codemirror_mode": {
    "name": "ipython",
    "version": 3
   },
   "file_extension": ".py",
   "mimetype": "text/x-python",
   "name": "python",
   "nbconvert_exporter": "python",
   "pygments_lexer": "ipython3",
   "version": "3.6.8"
  }
 },
 "nbformat": 4,
 "nbformat_minor": 2
}
