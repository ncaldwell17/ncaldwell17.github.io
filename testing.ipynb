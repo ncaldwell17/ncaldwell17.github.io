{
 "cells": [
  {
   "cell_type": "code",
   "execution_count": 8,
   "metadata": {},
   "outputs": [],
   "source": [
    "import pandas as pd\n",
    "import numpy as np\n",
    "import os\n",
    "import re"
   ]
  },
  {
   "cell_type": "code",
   "execution_count": 9,
   "metadata": {},
   "outputs": [
    {
     "data": {
      "text/html": [
       "<div>\n",
       "<style scoped>\n",
       "    .dataframe tbody tr th:only-of-type {\n",
       "        vertical-align: middle;\n",
       "    }\n",
       "\n",
       "    .dataframe tbody tr th {\n",
       "        vertical-align: top;\n",
       "    }\n",
       "\n",
       "    .dataframe thead th {\n",
       "        text-align: right;\n",
       "    }\n",
       "</style>\n",
       "<table border=\"1\" class=\"dataframe\">\n",
       "  <thead>\n",
       "    <tr style=\"text-align: right;\">\n",
       "      <th></th>\n",
       "      <th>title</th>\n",
       "      <th>subtitle</th>\n",
       "      <th>aut_href</th>\n",
       "      <th>author</th>\n",
       "      <th>ema_href</th>\n",
       "      <th>email</th>\n",
       "      <th>date</th>\n",
       "      <th>time</th>\n",
       "      <th>image_path</th>\n",
       "      <th>caption</th>\n",
       "      <th>...</th>\n",
       "      <th>extra2</th>\n",
       "      <th>extra3</th>\n",
       "      <th>extra4</th>\n",
       "      <th>extra5</th>\n",
       "      <th>extra6</th>\n",
       "      <th>extra7</th>\n",
       "      <th>extra8</th>\n",
       "      <th>extra9</th>\n",
       "      <th>extra10</th>\n",
       "      <th>meta_title</th>\n",
       "    </tr>\n",
       "    <tr>\n",
       "      <th>id</th>\n",
       "      <th></th>\n",
       "      <th></th>\n",
       "      <th></th>\n",
       "      <th></th>\n",
       "      <th></th>\n",
       "      <th></th>\n",
       "      <th></th>\n",
       "      <th></th>\n",
       "      <th></th>\n",
       "      <th></th>\n",
       "      <th></th>\n",
       "      <th></th>\n",
       "      <th></th>\n",
       "      <th></th>\n",
       "      <th></th>\n",
       "      <th></th>\n",
       "      <th></th>\n",
       "      <th></th>\n",
       "      <th></th>\n",
       "      <th></th>\n",
       "      <th></th>\n",
       "    </tr>\n",
       "  </thead>\n",
       "  <tbody>\n",
       "    <tr>\n",
       "      <th>1</th>\n",
       "      <td>Importance of Reading Code and Technical Papers</td>\n",
       "      <td>Why Reading Other PeopleÕs Code and Intense Te...</td>\n",
       "      <td>/index.html</td>\n",
       "      <td>Noah Caldwell-Gatsos</td>\n",
       "      <td>mailto:ncaldwellgatsos@gmail.com</td>\n",
       "      <td>My Email</td>\n",
       "      <td>8/1/19</td>\n",
       "      <td>12:33PM CST</td>\n",
       "      <td>/projects/ai/images/debugger.jpg</td>\n",
       "      <td>An Example of a PyCharm Debugger, ItÕs a Lot S...</td>\n",
       "      <td>...</td>\n",
       "      <td>Moving on, here are some other tips and tricks...</td>\n",
       "      <td>Once youÕve identified this Ôtable of contents...</td>\n",
       "      <td>Anytime you hit something you donÕt understand...</td>\n",
       "      <td>If you have your own strategies or inputs on h...</td>\n",
       "      <td>NaN</td>\n",
       "      <td>NaN</td>\n",
       "      <td>NaN</td>\n",
       "      <td>NaN</td>\n",
       "      <td>NaN</td>\n",
       "      <td>Importance of Reading Code and Technical Papers</td>\n",
       "    </tr>\n",
       "    <tr>\n",
       "      <th>2</th>\n",
       "      <td>NaN</td>\n",
       "      <td>NaN</td>\n",
       "      <td>NaN</td>\n",
       "      <td>NaN</td>\n",
       "      <td>NaN</td>\n",
       "      <td>NaN</td>\n",
       "      <td>NaN</td>\n",
       "      <td>NaN</td>\n",
       "      <td>NaN</td>\n",
       "      <td>NaN</td>\n",
       "      <td>...</td>\n",
       "      <td>NaN</td>\n",
       "      <td>NaN</td>\n",
       "      <td>NaN</td>\n",
       "      <td>NaN</td>\n",
       "      <td>NaN</td>\n",
       "      <td>NaN</td>\n",
       "      <td>NaN</td>\n",
       "      <td>NaN</td>\n",
       "      <td>NaN</td>\n",
       "      <td>NaN</td>\n",
       "    </tr>\n",
       "  </tbody>\n",
       "</table>\n",
       "<p>2 rows × 37 columns</p>\n",
       "</div>"
      ],
      "text/plain": [
       "                                              title  \\\n",
       "id                                                    \n",
       "1   Importance of Reading Code and Technical Papers   \n",
       "2                                               NaN   \n",
       "\n",
       "                                             subtitle     aut_href  \\\n",
       "id                                                                   \n",
       "1   Why Reading Other PeopleÕs Code and Intense Te...  /index.html   \n",
       "2                                                 NaN          NaN   \n",
       "\n",
       "                  author                          ema_href     email    date  \\\n",
       "id                                                                             \n",
       "1   Noah Caldwell-Gatsos  mailto:ncaldwellgatsos@gmail.com  My Email  8/1/19   \n",
       "2                    NaN                               NaN       NaN     NaN   \n",
       "\n",
       "            time                        image_path  \\\n",
       "id                                                   \n",
       "1   12:33PM CST   /projects/ai/images/debugger.jpg   \n",
       "2            NaN                               NaN   \n",
       "\n",
       "                                              caption  ...  \\\n",
       "id                                                     ...   \n",
       "1   An Example of a PyCharm Debugger, ItÕs a Lot S...  ...   \n",
       "2                                                 NaN  ...   \n",
       "\n",
       "                                               extra2  \\\n",
       "id                                                      \n",
       "1   Moving on, here are some other tips and tricks...   \n",
       "2                                                 NaN   \n",
       "\n",
       "                                               extra3  \\\n",
       "id                                                      \n",
       "1   Once youÕve identified this Ôtable of contents...   \n",
       "2                                                 NaN   \n",
       "\n",
       "                                               extra4  \\\n",
       "id                                                      \n",
       "1   Anytime you hit something you donÕt understand...   \n",
       "2                                                 NaN   \n",
       "\n",
       "                                               extra5 extra6 extra7 extra8  \\\n",
       "id                                                                           \n",
       "1   If you have your own strategies or inputs on h...    NaN    NaN    NaN   \n",
       "2                                                 NaN    NaN    NaN    NaN   \n",
       "\n",
       "   extra9 extra10                                       meta_title  \n",
       "id                                                                  \n",
       "1     NaN     NaN  Importance of Reading Code and Technical Papers  \n",
       "2     NaN     NaN                                              NaN  \n",
       "\n",
       "[2 rows x 37 columns]"
      ]
     },
     "execution_count": 9,
     "metadata": {},
     "output_type": "execute_result"
    }
   ],
   "source": [
    "file = pd.read_csv(\"aiBlog.csv\", index_col=0, encoding = \"ISO-8859-1\", engine='python')\n",
    "file"
   ]
  },
  {
   "cell_type": "code",
   "execution_count": 12,
   "metadata": {},
   "outputs": [
    {
     "data": {
      "text/plain": [
       "'Why Reading Other PeopleÕs Code and Intense Technical Papers is the Key to your Success as a Developer'"
      ]
     },
     "execution_count": 12,
     "metadata": {},
     "output_type": "execute_result"
    }
   ],
   "source": [
    "string = file['subtitle'][1]\n",
    "string"
   ]
  },
  {
   "cell_type": "code",
   "execution_count": 14,
   "metadata": {},
   "outputs": [
    {
     "data": {
      "text/plain": [
       "\"Why Reading Other People's Code and Intense Technical Papers is the Key to your Success as a Developer\""
      ]
     },
     "execution_count": 14,
     "metadata": {},
     "output_type": "execute_result"
    }
   ],
   "source": [
    "new_string = re.sub('Õ',\"'\",string)\n",
    "new_string"
   ]
  },
  {
   "cell_type": "code",
   "execution_count": null,
   "metadata": {},
   "outputs": [],
   "source": []
  }
 ],
 "metadata": {
  "kernelspec": {
   "display_name": "default",
   "language": "python",
   "name": "default"
  },
  "language_info": {
   "codemirror_mode": {
    "name": "ipython",
    "version": 3
   },
   "file_extension": ".py",
   "mimetype": "text/x-python",
   "name": "python",
   "nbconvert_exporter": "python",
   "pygments_lexer": "ipython3",
   "version": "3.6.8"
  }
 },
 "nbformat": 4,
 "nbformat_minor": 2
}
