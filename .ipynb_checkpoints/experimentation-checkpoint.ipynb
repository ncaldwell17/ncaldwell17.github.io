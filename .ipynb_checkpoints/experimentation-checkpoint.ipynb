{
 "cells": [
  {
   "cell_type": "code",
   "execution_count": 1,
   "metadata": {},
   "outputs": [],
   "source": [
    "import re\n",
    "import os\n",
    "import pandas as pd\n",
    "import sys"
   ]
  },
  {
   "cell_type": "code",
   "execution_count": 34,
   "metadata": {},
   "outputs": [],
   "source": [
    "# experimentation \n",
    "pd_dataframe = pd.read_csv('templateBlog.csv', index_col=0, encoding = \"ISO-8859-1\", engine='python', na_filter=False)\n",
    "id = 1\n",
    "def removeO(string):\n",
    "    new_string = re.sub('Õ',\"'\",string)\n",
    "    new_string = re.sub('Ô',\"'\",new_string)\n",
    "    new_string = re.sub('Ó','\"',new_string)\n",
    "    new_string = re.sub('Ò','\"',new_string)\n",
    "    return new_string\n",
    "def normalize(varlist):\n",
    "    for dataframe in varlist:\n",
    "        removeO(str(dataframe))\n",
    "# need a variable creating the list of dataframes \n",
    "df_list = [pd_dataframe['title'][id], pd_dataframe['subtitle'][id], pd_dataframe['aut_href'][id],\n",
    "               pd_dataframe['author'][id], pd_dataframe['ema_href'][id], pd_dataframe['email'][id],\n",
    "               pd_dataframe['date'][id], pd_dataframe['time'][id], pd_dataframe['image_path'][id],\n",
    "               pd_dataframe['caption'][id], pd_dataframe['source'][id],pd_dataframe['one_p'][id], \n",
    "               pd_dataframe['two_p'][id], pd_dataframe['three_p'][id], pd_dataframe['four_p'][id],\n",
    "               pd_dataframe['five_p'][id], pd_dataframe['tag1'][id], pd_dataframe['tag2'][id], \n",
    "               pd_dataframe['tag3'][id], pd_dataframe['tag4'][id], pd_dataframe['link_n1'][id],\n",
    "               pd_dataframe['next1'][id], pd_dataframe['link_n2'][id], pd_dataframe['next2'][id],\n",
    "               pd_dataframe['link_n3'][id], pd_dataframe['next3'][id], pd_dataframe['extra1'][id],\n",
    "               pd_dataframe['extra2'][id], pd_dataframe['extra3'][id], pd_dataframe['extra4'][id],\n",
    "               pd_dataframe['extra5'][id], pd_dataframe['extra6'][id], pd_dataframe['extra7'][id],\n",
    "               pd_dataframe['extra8'][id], pd_dataframe['extra9'][id], pd_dataframe['extra10'][id]]\n",
    "def format_html(varlist, document, header):\n",
    "    # insert html formatting here\n",
    "    ablog = document.format(varlist[0], varlist[1], varlist[2], varlist[3], varlist[4], varlist[5], varlist[6],\n",
    "                            varlist[7], varlist[8], varlist[9], varlist[10], varlist[11], varlist[12], varlist[13],\n",
    "                            varlist[14], varlist[15], varlist[16], varlist[17], varlist[18], varlist[19], varlist[20],\n",
    "                            varlist[21], varlist[22], varlist[23], varlist[24], varlist[25], varlist[26], varlist[27],\n",
    "                            varlist[28], varlist[29], varlist[30], varlist[31], varlist[32], varlist[33], varlist[34],\n",
    "                            varlist[35], header)\n",
    "    return ablog\n",
    "document = the_head+the_body+the_footer\n",
    "header = \"<div class='aProject'>Elections</div> <div class='aProject'>Geopolitics</div> <div class='aProject'>Dev. Economics</div> <div class='aProject'>Cybersecurity</div> <div class='aProject'>Issue Analysis</div>\""
   ]
  },
  {
   "cell_type": "code",
   "execution_count": 37,
   "metadata": {},
   "outputs": [
    {
     "data": {
      "text/plain": [
       "str"
      ]
     },
     "execution_count": 37,
     "metadata": {},
     "output_type": "execute_result"
    }
   ],
   "source": [
    "type(header)"
   ]
  },
  {
   "cell_type": "code",
   "execution_count": 21,
   "metadata": {},
   "outputs": [
    {
     "ename": "ValueError",
     "evalue": "expected ':' after conversion specifier",
     "output_type": "error",
     "traceback": [
      "\u001b[0;31m---------------------------------------------------------------------------\u001b[0m",
      "\u001b[0;31mValueError\u001b[0m                                Traceback (most recent call last)",
      "\u001b[0;32m<ipython-input-21-872c72d890ad>\u001b[0m in \u001b[0;36m<module>\u001b[0;34m\u001b[0m\n\u001b[1;32m      1\u001b[0m \u001b[0mnormalize\u001b[0m\u001b[0;34m(\u001b[0m\u001b[0mdf_list\u001b[0m\u001b[0;34m)\u001b[0m\u001b[0;34m\u001b[0m\u001b[0;34m\u001b[0m\u001b[0m\n\u001b[0;32m----> 2\u001b[0;31m \u001b[0mformat_html\u001b[0m\u001b[0;34m(\u001b[0m\u001b[0mdf_list\u001b[0m\u001b[0;34m,\u001b[0m \u001b[0mdocument\u001b[0m\u001b[0;34m,\u001b[0m \u001b[0mheader\u001b[0m\u001b[0;34m)\u001b[0m\u001b[0;34m\u001b[0m\u001b[0;34m\u001b[0m\u001b[0m\n\u001b[0m",
      "\u001b[0;32m<ipython-input-20-194c56696f57>\u001b[0m in \u001b[0;36mformat_html\u001b[0;34m(varlist, document, header)\u001b[0m\n\u001b[1;32m     31\u001b[0m                             \u001b[0mvarlist\u001b[0m\u001b[0;34m[\u001b[0m\u001b[0;36m21\u001b[0m\u001b[0;34m]\u001b[0m\u001b[0;34m,\u001b[0m \u001b[0mvarlist\u001b[0m\u001b[0;34m[\u001b[0m\u001b[0;36m22\u001b[0m\u001b[0;34m]\u001b[0m\u001b[0;34m,\u001b[0m \u001b[0mvarlist\u001b[0m\u001b[0;34m[\u001b[0m\u001b[0;36m23\u001b[0m\u001b[0;34m]\u001b[0m\u001b[0;34m,\u001b[0m \u001b[0mvarlist\u001b[0m\u001b[0;34m[\u001b[0m\u001b[0;36m24\u001b[0m\u001b[0;34m]\u001b[0m\u001b[0;34m,\u001b[0m \u001b[0mvarlist\u001b[0m\u001b[0;34m[\u001b[0m\u001b[0;36m25\u001b[0m\u001b[0;34m]\u001b[0m\u001b[0;34m,\u001b[0m \u001b[0mvarlist\u001b[0m\u001b[0;34m[\u001b[0m\u001b[0;36m26\u001b[0m\u001b[0;34m]\u001b[0m\u001b[0;34m,\u001b[0m \u001b[0mvarlist\u001b[0m\u001b[0;34m[\u001b[0m\u001b[0;36m27\u001b[0m\u001b[0;34m]\u001b[0m\u001b[0;34m,\u001b[0m\u001b[0;34m\u001b[0m\u001b[0;34m\u001b[0m\u001b[0m\n\u001b[1;32m     32\u001b[0m                             \u001b[0mvarlist\u001b[0m\u001b[0;34m[\u001b[0m\u001b[0;36m28\u001b[0m\u001b[0;34m]\u001b[0m\u001b[0;34m,\u001b[0m \u001b[0mvarlist\u001b[0m\u001b[0;34m[\u001b[0m\u001b[0;36m29\u001b[0m\u001b[0;34m]\u001b[0m\u001b[0;34m,\u001b[0m \u001b[0mvarlist\u001b[0m\u001b[0;34m[\u001b[0m\u001b[0;36m30\u001b[0m\u001b[0;34m]\u001b[0m\u001b[0;34m,\u001b[0m \u001b[0mvarlist\u001b[0m\u001b[0;34m[\u001b[0m\u001b[0;36m31\u001b[0m\u001b[0;34m]\u001b[0m\u001b[0;34m,\u001b[0m \u001b[0mvarlist\u001b[0m\u001b[0;34m[\u001b[0m\u001b[0;36m32\u001b[0m\u001b[0;34m]\u001b[0m\u001b[0;34m,\u001b[0m \u001b[0mvarlist\u001b[0m\u001b[0;34m[\u001b[0m\u001b[0;36m33\u001b[0m\u001b[0;34m]\u001b[0m\u001b[0;34m,\u001b[0m \u001b[0mvarlist\u001b[0m\u001b[0;34m[\u001b[0m\u001b[0;36m34\u001b[0m\u001b[0;34m]\u001b[0m\u001b[0;34m,\u001b[0m\u001b[0;34m\u001b[0m\u001b[0;34m\u001b[0m\u001b[0m\n\u001b[0;32m---> 33\u001b[0;31m                             varlist[35], header)\n\u001b[0m\u001b[1;32m     34\u001b[0m     \u001b[0;32mreturn\u001b[0m \u001b[0mablog\u001b[0m\u001b[0;34m\u001b[0m\u001b[0;34m\u001b[0m\u001b[0m\n\u001b[1;32m     35\u001b[0m \u001b[0mdocument\u001b[0m \u001b[0;34m=\u001b[0m \u001b[0mthe_head\u001b[0m\u001b[0;34m+\u001b[0m\u001b[0mthe_body\u001b[0m\u001b[0;34m+\u001b[0m\u001b[0mthe_footer\u001b[0m\u001b[0;34m\u001b[0m\u001b[0;34m\u001b[0m\u001b[0m\n",
      "\u001b[0;31mValueError\u001b[0m: expected ':' after conversion specifier"
     ]
    }
   ],
   "source": [
    "normalize(df_list)\n",
    "format_html(df_list, document, header)"
   ]
  },
  {
   "cell_type": "code",
   "execution_count": null,
   "metadata": {},
   "outputs": [],
   "source": [
    "def create_post(atype):\n",
    "    num_in_dir = len([name for name in os.listdir('.')])\n",
    "    # for some reason, num_in_dir seems to think there's always at least 1 file\n",
    "    np_idx = (num_in_dir -2) + 1\n",
    "    str(np_idx)\n",
    "    blog_loc = \"{0}_bp{1}\".format(atype, np_idx)\n",
    "    return blog_loc"
   ]
  },
  {
   "cell_type": "code",
   "execution_count": 16,
   "metadata": {},
   "outputs": [
    {
     "ename": "SyntaxError",
     "evalue": "EOL while scanning string literal (<ipython-input-16-944edd833e84>, line 8)",
     "output_type": "error",
     "traceback": [
      "\u001b[0;36m  File \u001b[0;32m\"<ipython-input-16-944edd833e84>\"\u001b[0;36m, line \u001b[0;32m8\u001b[0m\n\u001b[0;31m    css = \"<link rel='stylesheet' href='template.\u001b[0m\n\u001b[0m                                                 ^\u001b[0m\n\u001b[0;31mSyntaxError\u001b[0m\u001b[0;31m:\u001b[0m EOL while scanning string literal\n"
     ]
    }
   ],
   "source": [
    "# header variables\n",
    "doctype = \"<!DOCTYPE html> <html>\"\n",
    "metatitle = \"<title>{0}</title>\"\n",
    "head = \"<head>\"\n",
    "metadescription = \"<meta name='description' content={1}>\"\n",
    "metaphoto = \"<meta property='og:image' content='{8}'>\"\n",
    "othermeta = \"<meta charset='utf-8'> <meta name='viewport' content='width=device-width, initial-scale=1, shrink-to-fit=no'>\"\n",
    "css = \"<link rel='stylesheet' href='template.\n",
    "css'>\"\n",
    "fonts = \"<link href='https://fonts.googleapis.com/css?family=Spectral&display=swap' rel='stylesheet'> <link href='https://fonts.googleapis.com/css?family=PT+Sans&display=swap' rel='stylesheet'><link href='https://fonts.googleapis.com/css?family=Acme&display=swap' rel='stylesheet'> <link href='https://fonts.googleapis.com/css?family=Geostar+Fill&display=swap' rel='stylesheet'>\"\n",
    "social = \"<link rel='stylesheet' href='https://cdnjs.cloudflare.com/ajax/libs/font-awesome/4.7.0/css/font-awesome.min.css'>\"\n",
    "js = \"<script src='template.js'></script>\"\n",
    "headf = \"</head>\""
   ]
  },
  {
   "cell_type": "code",
   "execution_count": 17,
   "metadata": {},
   "outputs": [],
   "source": [
    "# body variables\n",
    "body = \"<body>\"\n",
    "fader = \"<svg id='fader'>\"\n",
    "body_header = \"<div class='header'> <a href='/index.html' style='color: white;'><div class='logo'>NCG.com</div></a>\"\n",
    "bheaders = body+fader+body_header\n",
    "\n",
    "uni_header = \"{36}</div>\"\n",
    "main = \"<div class='main'>\"\n",
    "body_title = \"<div class='title'>{0}</div>\"\n",
    "ssh = uni_header+main+body_title\n",
    "\n",
    "body_subtitle = \"<div class='subtitle'>{1}</div>\"\n",
    "attr_cont = \"<div class='attrContainer'> <div class='by'>By <a href='{2}'>{3}</a></div> <div class='email'><a href='{4}'>{5}</a></div> <div class='datetime'>{6} @ {7}</div> </div>\"\n",
    "social_cont = \"<div class='socialContainer'> <div class='aSocial'> <i class='fa fa-twitter'></i> </div> <div class='aSocial' style='padding-left: 25px; width: 10px;'> <i class='fa fa-facebook'></i> </div> <div class='aSocial'> <i class='fa fa-reddit'></i> </div> <div class='aSocial'> <i class='fa fa-google'></i> </div> </div>\"\n",
    "containers = body_subtitle+attr_cont+social_cont\n",
    "\n",
    "body_photo = \"<div class='mainPhoto' style='background-image: url({8})'></div>\"\n",
    "caption = \"<div class='caption'>{9}</div>\"\n",
    "source = \"<div class='source'>{10}</div>\"\n",
    "photoinfo = body_photo+caption+source\n",
    "\n",
    "first_p = \"<p class='something'>{11}</p>\"\n",
    "pz = \"<p>{12}</p> <p>{13}</p> <p>{14}</p> <p>{15}</p> <p>{26}</p> <p>{27}</p> <p>{28}</p> <p>{29}</p> <p>{30}</p> <p>{31}</p> <p>{32}</p> <p>{33}</p> <p>{34}</p> <p>{35}</p>\"\n",
    "tag_cont = \"<div class='tagContainer'> <div class='aTag'>{16}</div> <div class='aTag'>{17}</div> <div class='aTag'>{18}</div> <div class='aTag' style='margin-right: 0;'>{19}</div> </div>\"\n",
    "readnext = \"<div class='readNext'> <div class='secTitle'>Read Next:</div> <li class='aNext'><a href='{20}'>{21}</a></li> <li class='aNext'><a href='{22}'>{23}</a></li> <li class='aNext'><a href='{24}'>{25}</a></li> </div>\"\n",
    "empty = \"<div class='empty'></div>\\</div>\"\n",
    "writings = first_p+pz+tag_cont+readnext+empty"
   ]
  },
  {
   "cell_type": "code",
   "execution_count": 18,
   "metadata": {},
   "outputs": [],
   "source": [
    "# footer variables\n",
    "faderf = \"</svg>\"\n",
    "js_fader = \"<script> fadeInPage(); //fade-in, fade-out document.addEventListener('DOMContentLoaded', function() { if (!window.AnimationEvent) { return; } var anchors = document.getElementsByTagName('a'); for (var idx=0; idx<anchors.length; idx+=1) { if (anchors[idx].hostname !== window.location.hostname) { continue; } anchors[idx].addEventListener('click', function(event) { var localPath = '/wp-content/uploads/' if (anchors[idx].hostname !== window.location.hostname || anchors[idx].pathname === window.location.pathname || anchors[idx].pathname.indexOf(localPath) !== -1) { //continue; } var fader = document.getElementById('fader'), anchor = event.currentTarget; var listener = function() { window.location = anchor.href; fader.removeEventListener('animationend', listener); }; fader.addEventListener('animationend', listener); event.preventDefault(); fader.classList.add('fade-in'); }); } }); window.addEventListener('pageshow', function (event) { if (!event.persisted) { return; } var fader = document.getElementById('fader'); fader.classList.remove('fade-in'); }); </script>\"\n",
    "bodyf = \"</body>\"\n",
    "htmlf = \"</html>\""
   ]
  },
  {
   "cell_type": "code",
   "execution_count": 39,
   "metadata": {},
   "outputs": [
    {
     "name": "stdout",
     "output_type": "stream",
     "text": [
      "<!DOCTYPE html> <html><title>{0}</title><head><meta name='description' content={1}><meta property='og:image' content='{8}'><meta charset='utf-8'> <meta name='viewport' content='width=device-width, initial-scale=1, shrink-to-fit=no'><link rel='stylesheet' href='template.css'><link href='https://fonts.googleapis.com/css?family=Spectral&display=swap' rel='stylesheet'> <link href='https://fonts.googleapis.com/css?family=PT+Sans&display=swap' rel='stylesheet'><link href='https://fonts.googleapis.com/css?family=Acme&display=swap' rel='stylesheet'> <link href='https://fonts.googleapis.com/css?family=Geostar+Fill&display=swap' rel='stylesheet'><link rel='stylesheet' href='https://cdnjs.cloudflare.com/ajax/libs/font-awesome/4.7.0/css/font-awesome.min.css'><script src='template.js'></script></head>\n"
     ]
    }
   ],
   "source": [
    "# meta-variables \n",
    "the_head = doctype+metatitle+head+metadescription+metaphoto+othermeta+css+fonts+social+js+headf\n",
    "print(the_head)\n",
    "\n",
    "the_body = bheaders+ssh+containers+photoinfo+writings\n",
    "\n",
    "the_footer = faderf+js_fader+bodyf+htmlf"
   ]
  },
  {
   "cell_type": "code",
   "execution_count": null,
   "metadata": {},
   "outputs": [],
   "source": [
    "def format_html(varlist, document, header):\n",
    "    # insert html formatting here\n",
    "    ablog = document.format(varlist[0], varlist[1], varlist[2], varlist[3], varlist[4], varlist[5], varlist[6],\n",
    "                            varlist[7], varlist[8], varlist[9], varlist[10], varlist[11], varlist[12], varlist[13],\n",
    "                            varlist[14], varlist[15], varlist[16], varlist[17], varlist[18], varlist[19], varlist[20],\n",
    "                            varlist[21], varlist[22], varlist[23], varlist[24], varlist[25], varlist[26], varlist[27],\n",
    "                            varlist[28], varlist[29], varlist[30], varlist[31], varlist[32], varlist[33], varlist[34],\n",
    "                            varlist[35], header)\n",
    "    return ablog"
   ]
  },
  {
   "cell_type": "code",
   "execution_count": null,
   "metadata": {},
   "outputs": [],
   "source": [
    "def removeO(string):\n",
    "    new_string = re.sub('Õ',\"'\",string)\n",
    "    new_string = re.sub('Ô',\"'\",new_string)\n",
    "    new_string = re.sub('Ó','\"',new_string)\n",
    "    new_string = re.sub('Ò','\"',new_string)\n",
    "    return new_string"
   ]
  },
  {
   "cell_type": "code",
   "execution_count": null,
   "metadata": {},
   "outputs": [],
   "source": [
    "def normalize(varlist):\n",
    "    for dataframe in varlist:\n",
    "        removeO(str(dataframe))"
   ]
  },
  {
   "cell_type": "code",
   "execution_count": null,
   "metadata": {},
   "outputs": [],
   "source": [
    "def decide_header(atype):\n",
    "    if atype == 'elections':\n",
    "        return \"<div class='aProject'>Artificial Intelligence</div> <div class='aProject'>Geopolitics</div> <div class='aProject'>Dev. Economics</div> <div class='aProject'>Cybersecurity</div> <div class='aProject'>Issue Analysis</div>\"\n",
    "    if atype == 'ai':\n",
    "        return \"<div class='aProject'>Elections</div> <div class='aProject'>Geopolitics</div> <div class='aProject'>Dev. Economics</div> <div class='aProject'>Cybersecurity</div> <div class='aProject'>Issue Analysis</div>\""
   ]
  },
  {
   "cell_type": "code",
   "execution_count": null,
   "metadata": {},
   "outputs": [],
   "source": [
    "# post_type = sys.argv[1]\n",
    "# post_id = int(sys.argv[2])\n",
    "\n",
    "post_type = 'elections'\n",
    "post_id = 1\n",
    "\n",
    "if __name__ == \"__main__\":\n",
    "    document = str(the_head+the_body+the_footer)\n",
    "    # need a variable holding the dataframe as pd_dataframe\n",
    "    cd = os.getcwd()\n",
    "    if post_type == 'elections':\n",
    "        pd_dataframe = pd.read_csv('templateBlog.csv', index_col=0, encoding = \"ISO-8859-1\", engine='python', na_filter=False)\n",
    "    elif post_type == 'ai':\n",
    "        pd_dataframe = pd.read_csv(cd+\"/aiBlog.csv\", index_col=0, encoding = \"ISO-8859-1\", engine='python', na_filter=False)\n",
    "    # need id \n",
    "    id = post_id\n",
    "    # need a variable creating the list of dataframes \n",
    "    df_list = [pd_dataframe['title'][id], pd_dataframe['subtitle'][id], pd_dataframe['aut_href'][id],\n",
    "               pd_dataframe['author'][id], pd_dataframe['ema_href'][id], pd_dataframe['email'][id],\n",
    "               pd_dataframe['date'][id], pd_dataframe['time'][id], pd_dataframe['image_path'][id],\n",
    "               pd_dataframe['caption'][id], pd_dataframe['source'][id],pd_dataframe['one_p'][id], \n",
    "               pd_dataframe['two_p'][id], pd_dataframe['three_p'][id], pd_dataframe['four_p'][id],\n",
    "               pd_dataframe['five_p'][id], pd_dataframe['tag1'][id], pd_dataframe['tag2'][id], \n",
    "               pd_dataframe['tag3'][id], pd_dataframe['tag4'][id], pd_dataframe['link_n1'][id],\n",
    "               pd_dataframe['next1'][id], pd_dataframe['link_n2'][id], pd_dataframe['next2'][id],\n",
    "               pd_dataframe['link_n3'][id], pd_dataframe['next3'][id], pd_dataframe['extra1'][id],\n",
    "               pd_dataframe['extra2'][id], pd_dataframe['extra3'][id], pd_dataframe['extra4'][id],\n",
    "               pd_dataframe['extra5'][id], pd_dataframe['extra6'][id], pd_dataframe['extra7'][id],\n",
    "               pd_dataframe['extra8'][id], pd_dataframe['extra9'][id], pd_dataframe['extra10'][id]]\n",
    "    # need a variable holding the normalized list produced from above\n",
    "    norm_varlist = normalize(df_list)\n",
    "    # need a method call to produce unique header\n",
    "    unique_header = decide_header(post_type)\n",
    "    # formating the new file\n",
    "    os.chdir(\"projects/%s/posts/\" % post_type)\n",
    "    bidx = create_post(post_type)\n",
    "    wf = open(\"{0}.html\".format(bidx), \"a\")\n",
    "    aheader = decide_header(post_type)\n",
    "    # main function\n",
    "    wf.write(format_html(norm_varlist, document, unique_header))\n",
    "    wf.close"
   ]
  },
  {
   "cell_type": "code",
   "execution_count": null,
   "metadata": {},
   "outputs": [],
   "source": []
  }
 ],
 "metadata": {
  "kernelspec": {
   "display_name": "default",
   "language": "python",
   "name": "default"
  },
  "language_info": {
   "codemirror_mode": {
    "name": "ipython",
    "version": 3
   },
   "file_extension": ".py",
   "mimetype": "text/x-python",
   "name": "python",
   "nbconvert_exporter": "python",
   "pygments_lexer": "ipython3",
   "version": "3.6.8"
  }
 },
 "nbformat": 4,
 "nbformat_minor": 2
}
