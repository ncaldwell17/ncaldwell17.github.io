{
 "cells": [
  {
   "cell_type": "code",
   "execution_count": 32,
   "metadata": {},
   "outputs": [],
   "source": [
    "pd_dataframe = pd.read_csv('templateBlog.csv', index_col=0, encoding = \"ISO-8859-1\", engine='python', na_filter=False)\n",
    "id = 1"
   ]
  },
  {
   "cell_type": "code",
   "execution_count": 33,
   "metadata": {},
   "outputs": [],
   "source": [
    "df_list = [pd_dataframe['title'][id], pd_dataframe['subtitle'][id], pd_dataframe['aut_href'][id],\n",
    "               pd_dataframe['author'][id], pd_dataframe['ema_href'][id], pd_dataframe['email'][id],\n",
    "               pd_dataframe['date'][id], pd_dataframe['time'][id], pd_dataframe['image_path'][id],\n",
    "               pd_dataframe['caption'][id], pd_dataframe['source'][id],pd_dataframe['one_p'][id], \n",
    "               pd_dataframe['two_p'][id], pd_dataframe['three_p'][id], pd_dataframe['four_p'][id],\n",
    "               pd_dataframe['five_p'][id], pd_dataframe['tag1'][id], pd_dataframe['tag2'][id], \n",
    "               pd_dataframe['tag3'][id], pd_dataframe['tag4'][id], pd_dataframe['link_n1'][id],\n",
    "               pd_dataframe['next1'][id], pd_dataframe['link_n2'][id], pd_dataframe['next2'][id],\n",
    "               pd_dataframe['link_n3'][id], pd_dataframe['next3'][id], pd_dataframe['extra1'][id],\n",
    "               pd_dataframe['extra2'][id], pd_dataframe['extra3'][id], pd_dataframe['extra4'][id],\n",
    "               pd_dataframe['extra5'][id], pd_dataframe['extra6'][id], pd_dataframe['extra7'][id],\n",
    "               pd_dataframe['extra8'][id], pd_dataframe['extra9'][id], pd_dataframe['extra10'][id]]"
   ]
  },
  {
   "cell_type": "code",
   "execution_count": 34,
   "metadata": {},
   "outputs": [],
   "source": [
    "header = \"<div class='aProject'>Elections</div> <div class='aProject'>Geopolitics</div> <div class='aProject'>Dev. Economics</div> <div class='aProject'>Cybersecurity</div> <div class='aProject'>Issue Analysis</div>\""
   ]
  },
  {
   "cell_type": "code",
   "execution_count": 42,
   "metadata": {},
   "outputs": [],
   "source": [
    "document = \"Title ok: {0}, \\\n",
    "subtitle ok: {1}, \\\n",
    "aut_href ok: {2}, \\\n",
    "author ok: {3} \\\n",
    "ema_href ok: {4} \\ \n",
    "email ok: {5} \\\n",
    "date ok: {6} \\\n",
    "{7}{8}{9}{10}{11}{12}{13}{14}{15}{16}{17}{18}\n",
    "\n",
    "extra1 ok: {25} \\\n",
    "extra2 ok: {26} \\\n",
    "extra3 ok: {27} \\\n",
    "extra4 ok: {28} \\\n",
    "extra5 ok: {29} \\\n",
    "extra6 ok: {30} \\\n",
    "extra7 ok: {31} \\\n",
    "extra8 ok: {32} \\\n",
    "extra8 ok: {33} \\\n",
    "extra9 ok: {34}, \\\n",
    "extra10 ok: {35},  \\\n",
    "header: {36}\""
   ]
  },
  {
   "cell_type": "code",
   "execution_count": 44,
   "metadata": {},
   "outputs": [
    {
     "data": {
      "text/plain": [
       "\"Title ok: How to Win Montana, subtitle ok: Helena Mayor Wilmot Collins faces an uphill battle to retake the Montana Senate seat from the Republicans., aut_href ok: /index.html, extra1 ok: Wilmot Collins: From African Refugee to Montana Mayor | The Daily Show extra2 ok: Will Collins be the nominee and go on to win the election? Only time will tell for now - it's a bit too far out to begin making concrete estimates, especially with Bullock being a potential upset. Montana seems to be bucking the national trend of voting solely through partisan lens - if only because they didn't have too many partisans to begin with. One thing's for sure - we'll be waiting for the results till the last minute of November 3rd: Montana takes forever to count their ballots. extra3 ok:  extra4 ok:  extra5 ok:  extra6 ok:  extra7 ok:  extra8 ok:  extra8 ok:  extra9 ok: , extra10 ok: ,  header: <div class='aProject'>Elections</div> <div class='aProject'>Geopolitics</div> <div class='aProject'>Dev. Economics</div> <div class='aProject'>Cybersecurity</div> <div class='aProject'>Issue Analysis</div>\""
      ]
     },
     "execution_count": 44,
     "metadata": {},
     "output_type": "execute_result"
    }
   ],
   "source": [
    "document.format(df_list[0],\n",
    "                df_list[1],\n",
    "                df_list[2],\n",
    "                df_list[25],\n",
    "                df_list[26],\n",
    "                df_list[27],\n",
    "                df_list[28],\n",
    "                df_list[29],\n",
    "                df_list[30],\n",
    "                df_list[31],\n",
    "                df_list[32],\n",
    "                df_list[33],\n",
    "                df_list[34],\n",
    "                df_list[35],\n",
    "                header)"
   ]
  },
  {
   "cell_type": "code",
   "execution_count": null,
   "metadata": {},
   "outputs": [],
   "source": []
  }
 ],
 "metadata": {
  "kernelspec": {
   "display_name": "default",
   "language": "python",
   "name": "default"
  },
  "language_info": {
   "codemirror_mode": {
    "name": "ipython",
    "version": 3
   },
   "file_extension": ".py",
   "mimetype": "text/x-python",
   "name": "python",
   "nbconvert_exporter": "python",
   "pygments_lexer": "ipython3",
   "version": "3.6.8"
  }
 },
 "nbformat": 4,
 "nbformat_minor": 2
}
