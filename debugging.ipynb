{
 "cells": [
  {
   "cell_type": "code",
   "execution_count": 57,
   "metadata": {},
   "outputs": [],
   "source": [
    "import re\n",
    "import pandas as pd"
   ]
  },
  {
   "cell_type": "code",
   "execution_count": 58,
   "metadata": {},
   "outputs": [],
   "source": [
    "pd_dataframe = pd.read_csv('templateBlog.csv', index_col=0, encoding = \"ISO-8859-1\", engine='python', na_filter=False)\n",
    "id = 1"
   ]
  },
  {
   "cell_type": "code",
   "execution_count": 59,
   "metadata": {},
   "outputs": [],
   "source": [
    "df_list = [pd_dataframe['title'][id], pd_dataframe['subtitle'][id], pd_dataframe['aut_href'][id],\n",
    "               pd_dataframe['author'][id], pd_dataframe['ema_href'][id], pd_dataframe['email'][id],\n",
    "               pd_dataframe['date'][id], pd_dataframe['time'][id], pd_dataframe['image_path'][id],\n",
    "               pd_dataframe['caption'][id], pd_dataframe['source'][id],pd_dataframe['one_p'][id], \n",
    "               pd_dataframe['two_p'][id], pd_dataframe['three_p'][id], pd_dataframe['four_p'][id],\n",
    "               pd_dataframe['five_p'][id], pd_dataframe['tag1'][id], pd_dataframe['tag2'][id], \n",
    "               pd_dataframe['tag3'][id], pd_dataframe['tag4'][id], pd_dataframe['link_n1'][id],\n",
    "               pd_dataframe['next1'][id], pd_dataframe['link_n2'][id], pd_dataframe['next2'][id],\n",
    "               pd_dataframe['link_n3'][id], pd_dataframe['next3'][id], pd_dataframe['extra1'][id],\n",
    "               pd_dataframe['extra2'][id], pd_dataframe['extra3'][id], pd_dataframe['extra4'][id],\n",
    "               pd_dataframe['extra5'][id], pd_dataframe['extra6'][id], pd_dataframe['extra7'][id],\n",
    "               pd_dataframe['extra8'][id], pd_dataframe['extra9'][id], pd_dataframe['extra10'][id]]"
   ]
  },
  {
   "cell_type": "code",
   "execution_count": 60,
   "metadata": {},
   "outputs": [],
   "source": [
    "def removeO(string):\n",
    "    new_string = re.sub('Õ',\"'\",string)\n",
    "    new_string = re.sub('Ô',\"'\",new_string)\n",
    "    new_string = re.sub('Ó','\"',new_string)\n",
    "    new_string = re.sub('Ò','\"',new_string)\n",
    "    return new_string\n",
    "\n",
    "def normalize(varlist):\n",
    "    for dataframe in varlist:\n",
    "        removeO(str(dataframe))\n",
    "        \n",
    "normalize(df_list)"
   ]
  },
  {
   "cell_type": "code",
   "execution_count": 61,
   "metadata": {},
   "outputs": [],
   "source": [
    "header = \"<div class='aProject'>Elections</div> <div class='aProject'>Geopolitics</div> <div class='aProject'>Dev. Economics</div> <div class='aProject'>Cybersecurity</div> <div class='aProject'>Issue Analysis</div>\""
   ]
  },
  {
   "cell_type": "code",
   "execution_count": null,
   "metadata": {},
   "outputs": [],
   "source": []
  },
  {
   "cell_type": "code",
   "execution_count": 73,
   "metadata": {},
   "outputs": [],
   "source": [
    "\"{0}{1}{2}{3}{4}{5}{6}{7}{8}{9}{10}{11}{12}{13}{14}{15}{16}{17}{18}{19}{20}{21}{22}{23}{24}{25}{26}{27}{28}{29}{30}{31}{32}{33}{34}{35}{36}\""
   ]
  },
  {
   "cell_type": "code",
   "execution_count": 80,
   "metadata": {},
   "outputs": [
    {
     "ename": "SyntaxError",
     "evalue": "invalid syntax (<ipython-input-80-044a4cf49ea0>, line 1)",
     "output_type": "error",
     "traceback": [
      "\u001b[0;36m  File \u001b[0;32m\"<ipython-input-80-044a4cf49ea0>\"\u001b[0;36m, line \u001b[0;32m1\u001b[0m\n\u001b[0;31m    document=\u001b[0m\n\u001b[0m             ^\u001b[0m\n\u001b[0;31mSyntaxError\u001b[0m\u001b[0;31m:\u001b[0m invalid syntax\n"
     ]
    }
   ],
   "source": [
    "document=\n",
    "\" \\\n",
    "{0}{1}{2}{3}{4}{5}{6}{7}{8}{9}{10}{11}{12}{13}{14}{15}{16}{17}{18}{19}{20}{21}{22}{23}{24}{25}{26}{27}{28}{29}{30}{31}{32}{33}{34}{35}{36}\""
   ]
  },
  {
   "cell_type": "code",
   "execution_count": 79,
   "metadata": {},
   "outputs": [
    {
     "ename": "ValueError",
     "evalue": "expected ':' after conversion specifier",
     "output_type": "error",
     "traceback": [
      "\u001b[0;31m---------------------------------------------------------------------------\u001b[0m",
      "\u001b[0;31mValueError\u001b[0m                                Traceback (most recent call last)",
      "\u001b[0;32m<ipython-input-79-bfda4c533e47>\u001b[0m in \u001b[0;36m<module>\u001b[0;34m\u001b[0m\n\u001b[1;32m     36\u001b[0m                 \u001b[0mdf_list\u001b[0m\u001b[0;34m[\u001b[0m\u001b[0;36m34\u001b[0m\u001b[0;34m]\u001b[0m\u001b[0;34m,\u001b[0m\u001b[0;34m\u001b[0m\u001b[0;34m\u001b[0m\u001b[0m\n\u001b[1;32m     37\u001b[0m                 \u001b[0mdf_list\u001b[0m\u001b[0;34m[\u001b[0m\u001b[0;36m35\u001b[0m\u001b[0;34m]\u001b[0m\u001b[0;34m,\u001b[0m\u001b[0;34m\u001b[0m\u001b[0;34m\u001b[0m\u001b[0m\n\u001b[0;32m---> 38\u001b[0;31m                 header)\n\u001b[0m",
      "\u001b[0;31mValueError\u001b[0m: expected ':' after conversion specifier"
     ]
    }
   ],
   "source": [
    "document.format(df_list[0],\n",
    "                df_list[1],\n",
    "                df_list[2],\n",
    "                df_list[3],\n",
    "                df_list[4],\n",
    "                df_list[5],\n",
    "                df_list[6],\n",
    "                df_list[7],\n",
    "                df_list[8],\n",
    "                df_list[9],\n",
    "                df_list[10],\n",
    "                df_list[11],\n",
    "                df_list[12],\n",
    "                df_list[13],\n",
    "                df_list[14],\n",
    "                df_list[15],\n",
    "                df_list[16],\n",
    "                df_list[17],\n",
    "                df_list[18],\n",
    "                df_list[19],\n",
    "                df_list[20],\n",
    "                df_list[21],\n",
    "                df_list[24],\n",
    "                df_list[22],\n",
    "                df_list[23],\n",
    "                df_list[24],\n",
    "                df_list[25],\n",
    "                df_list[26],\n",
    "                df_list[27],\n",
    "                df_list[28],\n",
    "                df_list[29],\n",
    "                df_list[30],\n",
    "                df_list[31],\n",
    "                df_list[32],\n",
    "                df_list[33],\n",
    "                df_list[34],\n",
    "                df_list[35],\n",
    "                header)"
   ]
  },
  {
   "cell_type": "code",
   "execution_count": null,
   "metadata": {},
   "outputs": [],
   "source": []
  }
 ],
 "metadata": {
  "kernelspec": {
   "display_name": "default",
   "language": "python",
   "name": "default"
  },
  "language_info": {
   "codemirror_mode": {
    "name": "ipython",
    "version": 3
   },
   "file_extension": ".py",
   "mimetype": "text/x-python",
   "name": "python",
   "nbconvert_exporter": "python",
   "pygments_lexer": "ipython3",
   "version": "3.6.8"
  }
 },
 "nbformat": 4,
 "nbformat_minor": 2
}
